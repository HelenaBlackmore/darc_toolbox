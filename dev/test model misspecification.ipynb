{
 "cells": [
  {
   "cell_type": "markdown",
   "metadata": {},
   "source": [
    "# test of model misspecification"
   ]
  },
  {
   "cell_type": "code",
   "execution_count": 1,
   "metadata": {},
   "outputs": [],
   "source": [
    "# Point Python to the path where we have installed the bad and darc packages\n",
    "import sys\n",
    "sys.path.insert(0, '/Users/btvincent/git-local/darc-experiments-python')"
   ]
  },
  {
   "cell_type": "code",
   "execution_count": 2,
   "metadata": {},
   "outputs": [],
   "source": [
    "import pandas as pd\n",
    "import numpy as np\n",
    "\n",
    "import darc\n",
    "from darc.delayed import models\n",
    "from darc.designs import DARCDesign\n",
    "# from darc.delayed.designs import Kirby2009, Frye, Griskevicius2011, Koffarnus_Bickel\n",
    "from dev.darc_parameter_recovery import simulated_experiment_trial_loop\n",
    "from darc.data_plotting import plot_delay_without_front_end_delays"
   ]
  },
  {
   "cell_type": "code",
   "execution_count": 3,
   "metadata": {},
   "outputs": [],
   "source": [
    "import matplotlib.pyplot as plt\n",
    "from matplotlib import gridspec\n",
    "%matplotlib inline\n",
    "%config InlineBackend.figure_format = 'retina'"
   ]
  },
  {
   "cell_type": "markdown",
   "metadata": {},
   "source": []
  },
  {
   "cell_type": "code",
   "execution_count": 4,
   "metadata": {},
   "outputs": [
    {
     "name": "stderr",
     "output_type": "stream",
     "text": [
      "/Users/btvincent/git-local/darc-experiments-python/bad/optimisation.py:153: RuntimeWarning: invalid value encountered in true_divide\n",
      "  (n_times_sampled+n_times_sampled_iter))\n",
      "/Users/btvincent/git-local/darc-experiments-python/bad/optimisation.py:226: RuntimeWarning: invalid value encountered in true_divide\n",
      "  (n_times_sampled + n_times_sampled_iter))\n"
     ]
    }
   ],
   "source": [
    "design_thing = DARCDesign(max_trials=20, \n",
    "                          RA=list(np.arange(5, 99+1, 1)), \n",
    "                          DB=list(np.arange(1, 365, 7)))\n",
    "\n",
    "# create a response model with some true parameters\n",
    "model_to_fit = models.Hyperbolic(n_particles=5000)\n",
    "model_to_fit.θ_true = pd.DataFrame.from_dict({'logk': [np.log(0.01)], 'α': [2]})\n",
    "\n",
    "fitted_model, _ = simulated_experiment_trial_loop(design_thing, model_to_fit)\n",
    "\n",
    "\n",
    "# plot_delay_without_front_end_delays(ax[row,col], design_thing.all_data)\n",
    "# hyperbolic_posterior_predictive(ax[row,col], fitted_model)"
   ]
  },
  {
   "cell_type": "code",
   "execution_count": null,
   "metadata": {},
   "outputs": [],
   "source": []
  },
  {
   "cell_type": "code",
   "execution_count": null,
   "metadata": {},
   "outputs": [],
   "source": []
  },
  {
   "cell_type": "code",
   "execution_count": null,
   "metadata": {},
   "outputs": [],
   "source": []
  },
  {
   "cell_type": "code",
   "execution_count": 5,
   "metadata": {},
   "outputs": [
    {
     "name": "stderr",
     "output_type": "stream",
     "text": [
      "/Users/btvincent/git-local/darc-experiments-python/darc/delayed/models.py:129: RuntimeWarning: overflow encountered in multiply\n",
      "  VB = data['RB'].values * self._time_discount_func(data['DB'].values, θ)\n",
      "/Users/btvincent/git-local/darc-experiments-python/bad/choice_functions.py:22: RuntimeWarning: overflow encountered in true_divide\n",
      "  p_chose_B = θ_fixed['ϵ'] + (1 - 2 * θ_fixed['ϵ']) * _Phi(np.divide(decision_variable, α))\n"
     ]
    }
   ],
   "source": [
    "design_thing = DARCDesign(max_trials=20, \n",
    "                          RA=list(np.arange(5, 99+1, 1)), \n",
    "                          DB=list(np.arange(1, 365, 7)))\n",
    "\n",
    "# create a response model with some true parameters\n",
    "response_model = models.Hyperbolic(n_particles=5000)\n",
    "response_model.θ_true = pd.DataFrame.from_dict({'logk': [np.log(0.01)], 'α': [2]})\n",
    "\n",
    "# we will fit with a different class of model\n",
    "model_to_fit = models.Exponential(n_particles=5000)\n",
    "\n",
    "fitted_model, _ = simulated_experiment_trial_loop(design_thing, \n",
    "                                                  model_to_fit, \n",
    "                                                  response_model=response_model,\n",
    "                                                  track_this_parameter=None)"
   ]
  },
  {
   "cell_type": "code",
   "execution_count": 10,
   "metadata": {},
   "outputs": [
    {
     "data": {
      "text/html": [
       "<div>\n",
       "<style scoped>\n",
       "    .dataframe tbody tr th:only-of-type {\n",
       "        vertical-align: middle;\n",
       "    }\n",
       "\n",
       "    .dataframe tbody tr th {\n",
       "        vertical-align: top;\n",
       "    }\n",
       "\n",
       "    .dataframe thead th {\n",
       "        text-align: right;\n",
       "    }\n",
       "</style>\n",
       "<table border=\"1\" class=\"dataframe\">\n",
       "  <thead>\n",
       "    <tr style=\"text-align: right;\">\n",
       "      <th></th>\n",
       "      <th>k_entropy</th>\n",
       "      <th>k_median</th>\n",
       "      <th>k_mean</th>\n",
       "      <th>k_lower50</th>\n",
       "      <th>k_upper50</th>\n",
       "      <th>k_lower95</th>\n",
       "      <th>k_upper95</th>\n",
       "    </tr>\n",
       "  </thead>\n",
       "  <tbody>\n",
       "    <tr>\n",
       "      <th>0</th>\n",
       "      <td>-40.169892</td>\n",
       "      <td>0.004871</td>\n",
       "      <td>0.004871</td>\n",
       "      <td>0.004871</td>\n",
       "      <td>0.004871</td>\n",
       "      <td>0.004871</td>\n",
       "      <td>0.004871</td>\n",
       "    </tr>\n",
       "  </tbody>\n",
       "</table>\n",
       "</div>"
      ],
      "text/plain": [
       "   k_entropy  k_median    k_mean  k_lower50  k_upper50  k_lower95  k_upper95\n",
       "0 -40.169892  0.004871  0.004871   0.004871   0.004871   0.004871   0.004871"
      ]
     },
     "execution_count": 10,
     "metadata": {},
     "output_type": "execute_result"
    }
   ],
   "source": [
    "fitted_model.get_θ_summary_stats('k')"
   ]
  },
  {
   "cell_type": "code",
   "execution_count": null,
   "metadata": {},
   "outputs": [],
   "source": []
  }
 ],
 "metadata": {
  "kernelspec": {
   "display_name": "Python 3",
   "language": "python",
   "name": "python3"
  },
  "language_info": {
   "codemirror_mode": {
    "name": "ipython",
    "version": 3
   },
   "file_extension": ".py",
   "mimetype": "text/x-python",
   "name": "python",
   "nbconvert_exporter": "python",
   "pygments_lexer": "ipython3",
   "version": "3.6.6"
  }
 },
 "nbformat": 4,
 "nbformat_minor": 2
}
