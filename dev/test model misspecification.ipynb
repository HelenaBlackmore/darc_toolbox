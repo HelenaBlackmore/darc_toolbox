{
 "cells": [
  {
   "cell_type": "markdown",
   "metadata": {},
   "source": [
    "# test of model misspecification"
   ]
  },
  {
   "cell_type": "code",
   "execution_count": 3,
   "metadata": {},
   "outputs": [],
   "source": [
    "# Point Python to the path where we have installed the bad and darc packages\n",
    "import sys\n",
    "sys.path.insert(0, '/Users/btvincent/git-local/darc-experiments-python')"
   ]
  },
  {
   "cell_type": "code",
   "execution_count": 4,
   "metadata": {},
   "outputs": [],
   "source": [
    "import pandas as pd\n",
    "import numpy as np\n",
    "\n",
    "import darc\n",
    "from darc.delayed import models\n",
    "from darc.designs import BayesianAdaptiveDesignGeneratorDARC, DesignSpaceBuilder\n",
    "# from darc.delayed.designs import Kirby2009, Frye, Griskevicius2011, Koffarnus_Bickel\n",
    "from dev.darc_parameter_recovery import simulated_experiment_trial_loop\n",
    "from darc.data_plotting import plot_delay_without_front_end_delays"
   ]
  },
  {
   "cell_type": "markdown",
   "metadata": {},
   "source": [
    "Test where we just have one model. This will use the model for both response generation (with it's true parameter values) and fit that same model."
   ]
  },
  {
   "cell_type": "code",
   "execution_count": 5,
   "metadata": {},
   "outputs": [
    {
     "name": "stderr",
     "output_type": "stream",
     "text": [
      "/Users/btvincent/git-local/darc-experiments-python/bad/optimisation.py:153: RuntimeWarning: invalid value encountered in true_divide\n",
      "  (n_times_sampled+n_times_sampled_iter))\n",
      "/Users/btvincent/git-local/darc-experiments-python/bad/optimisation.py:226: RuntimeWarning: invalid value encountered in true_divide\n",
      "  (n_times_sampled + n_times_sampled_iter))\n"
     ]
    },
    {
     "data": {
      "text/html": [
       "<div>\n",
       "<style scoped>\n",
       "    .dataframe tbody tr th:only-of-type {\n",
       "        vertical-align: middle;\n",
       "    }\n",
       "\n",
       "    .dataframe tbody tr th {\n",
       "        vertical-align: top;\n",
       "    }\n",
       "\n",
       "    .dataframe thead th {\n",
       "        text-align: right;\n",
       "    }\n",
       "</style>\n",
       "<table border=\"1\" class=\"dataframe\">\n",
       "  <thead>\n",
       "    <tr style=\"text-align: right;\">\n",
       "      <th></th>\n",
       "      <th>logk_entropy</th>\n",
       "      <th>logk_median</th>\n",
       "      <th>logk_mean</th>\n",
       "      <th>logk_lower50</th>\n",
       "      <th>logk_upper50</th>\n",
       "      <th>logk_lower95</th>\n",
       "      <th>logk_upper95</th>\n",
       "    </tr>\n",
       "  </thead>\n",
       "  <tbody>\n",
       "    <tr>\n",
       "      <th>0</th>\n",
       "      <td>-2.054001</td>\n",
       "      <td>-4.634027</td>\n",
       "      <td>-4.638929</td>\n",
       "      <td>-4.658559</td>\n",
       "      <td>-4.62315</td>\n",
       "      <td>-4.707965</td>\n",
       "      <td>-4.581752</td>\n",
       "    </tr>\n",
       "  </tbody>\n",
       "</table>\n",
       "</div>"
      ],
      "text/plain": [
       "   logk_entropy  logk_median  logk_mean  logk_lower50  logk_upper50  logk_lower95  logk_upper95\n",
       "0     -2.054001    -4.634027  -4.638929     -4.658559      -4.62315     -4.707965     -4.581752"
      ]
     },
     "execution_count": 5,
     "metadata": {},
     "output_type": "execute_result"
    }
   ],
   "source": [
    "D = DesignSpaceBuilder(RA=list(np.arange(5, 99+1, 1)), \n",
    "                       DB=list(np.arange(1, 365, 7))).build()\n",
    "design_thing = BayesianAdaptiveDesignGeneratorDARC(D, max_trials=20)\n",
    "\n",
    "# create a response model with some true parameters\n",
    "model_to_fit = models.Hyperbolic(n_particles=5000)\n",
    "model_to_fit.θ_true = pd.DataFrame.from_dict({'logk': [np.log(0.01)], 'α': [2]})\n",
    "\n",
    "fitted_model, _ = simulated_experiment_trial_loop(design_thing, model_to_fit)\n",
    "\n",
    "fitted_model.get_θ_summary_stats('logk')\n",
    "# plot_delay_without_front_end_delays(ax[row,col], design_thing.get_df())\n",
    "# hyperbolic_posterior_predictive(ax[row,col], fitted_model)"
   ]
  },
  {
   "cell_type": "code",
   "execution_count": null,
   "metadata": {},
   "outputs": [],
   "source": []
  },
  {
   "cell_type": "code",
   "execution_count": null,
   "metadata": {},
   "outputs": [],
   "source": []
  },
  {
   "cell_type": "markdown",
   "metadata": {},
   "source": [
    "This example with generate data from the `Hyperbolic` model, but do parameter estimation on the `Exponential` model throughout the simulated experiment."
   ]
  },
  {
   "cell_type": "code",
   "execution_count": 8,
   "metadata": {},
   "outputs": [
    {
     "name": "stderr",
     "output_type": "stream",
     "text": [
      "/Users/btvincent/git-local/darc-experiments-python/bad/optimisation.py:153: RuntimeWarning: invalid value encountered in true_divide\n",
      "  (n_times_sampled+n_times_sampled_iter))\n",
      "/Users/btvincent/git-local/darc-experiments-python/bad/optimisation.py:226: RuntimeWarning: invalid value encountered in true_divide\n",
      "  (n_times_sampled + n_times_sampled_iter))\n",
      "/Users/btvincent/git-local/darc-experiments-python/darc/delayed/models.py:97: RuntimeWarning: overflow encountered in multiply\n",
      "  VB = data['RB'].values * self._time_discount_func(data['DB'].values, θ['k'].values)\n",
      "/Users/btvincent/git-local/darc-experiments-python/bad/choice_functions.py:22: RuntimeWarning: overflow encountered in true_divide\n",
      "  p_chose_B = θ_fixed['ϵ'] + (1 - 2 * θ_fixed['ϵ']) * _Phi(np.divide(decision_variable, α))\n"
     ]
    }
   ],
   "source": [
    "D = DesignSpaceBuilder(RA=list(np.arange(5, 99+1, 1)), \n",
    "                       DB=list(np.arange(1, 365, 7))).build()\n",
    "design_thing = BayesianAdaptiveDesignGeneratorDARC(D, max_trials=20)\n",
    "\n",
    "# create a response model with some true parameters\n",
    "response_model = models.Hyperbolic(n_particles=5000)\n",
    "response_model.θ_true = pd.DataFrame.from_dict({'logk': [-4.5], 'α': [2]})\n",
    "\n",
    "# we will fit with a different class of model\n",
    "model_to_fit = models.Exponential(n_particles=5000)\n",
    "\n",
    "fitted_model, _ = simulated_experiment_trial_loop(design_thing, \n",
    "                                                  model_to_fit, \n",
    "                                                  response_model=response_model,\n",
    "                                                  track_this_parameter=None)"
   ]
  },
  {
   "cell_type": "code",
   "execution_count": 9,
   "metadata": {},
   "outputs": [
    {
     "data": {
      "text/html": [
       "<div>\n",
       "<style scoped>\n",
       "    .dataframe tbody tr th:only-of-type {\n",
       "        vertical-align: middle;\n",
       "    }\n",
       "\n",
       "    .dataframe tbody tr th {\n",
       "        vertical-align: top;\n",
       "    }\n",
       "\n",
       "    .dataframe thead th {\n",
       "        text-align: right;\n",
       "    }\n",
       "</style>\n",
       "<table border=\"1\" class=\"dataframe\">\n",
       "  <thead>\n",
       "    <tr style=\"text-align: right;\">\n",
       "      <th></th>\n",
       "      <th>k_entropy</th>\n",
       "      <th>k_median</th>\n",
       "      <th>k_mean</th>\n",
       "      <th>k_lower50</th>\n",
       "      <th>k_upper50</th>\n",
       "      <th>k_lower95</th>\n",
       "      <th>k_upper95</th>\n",
       "    </tr>\n",
       "  </thead>\n",
       "  <tbody>\n",
       "    <tr>\n",
       "      <th>0</th>\n",
       "      <td>-7.376877</td>\n",
       "      <td>0.005491</td>\n",
       "      <td>0.005432</td>\n",
       "      <td>0.005491</td>\n",
       "      <td>0.005491</td>\n",
       "      <td>0.005091</td>\n",
       "      <td>0.005491</td>\n",
       "    </tr>\n",
       "  </tbody>\n",
       "</table>\n",
       "</div>"
      ],
      "text/plain": [
       "   k_entropy  k_median    k_mean  k_lower50  k_upper50  k_lower95  k_upper95\n",
       "0  -7.376877  0.005491  0.005432   0.005491   0.005491   0.005091   0.005491"
      ]
     },
     "execution_count": 9,
     "metadata": {},
     "output_type": "execute_result"
    }
   ],
   "source": [
    "# NOTE THESE ARE ESIMATES OF k (NOT LOGK) FROM THE EXPONENTIAL MODEL\n",
    "fitted_model.get_θ_summary_stats('k')"
   ]
  },
  {
   "cell_type": "code",
   "execution_count": null,
   "metadata": {},
   "outputs": [],
   "source": []
  }
 ],
 "metadata": {
  "kernelspec": {
   "display_name": "Python 3",
   "language": "python",
   "name": "python3"
  },
  "language_info": {
   "codemirror_mode": {
    "name": "ipython",
    "version": 3
   },
   "file_extension": ".py",
   "mimetype": "text/x-python",
   "name": "python",
   "nbconvert_exporter": "python",
   "pygments_lexer": "ipython3",
   "version": "3.6.6"
  }
 },
 "nbformat": 4,
 "nbformat_minor": 2
}
