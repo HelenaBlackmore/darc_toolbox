{
 "cells": [
  {
   "cell_type": "markdown",
   "metadata": {},
   "source": [
    "# Posterior entropy"
   ]
  },
  {
   "cell_type": "code",
   "execution_count": 1,
   "metadata": {},
   "outputs": [],
   "source": [
    "# Point Python to the path where we have installed the bad and darc packages\n",
    "import sys\n",
    "sys.path.insert(0, '/Users/btvincent/git-local/darc-experiments-python')"
   ]
  },
  {
   "cell_type": "code",
   "execution_count": 2,
   "metadata": {},
   "outputs": [],
   "source": [
    "import pandas as pd\n",
    "import numpy as np\n",
    "\n",
    "import darc\n",
    "from darc.delayed import models\n",
    "from darc.designs import DARCDesign, Griskevicius2011delay, Frye, Koffarnus_Bickel, Kirby2009\n",
    "\n",
    "from darc.data_plotting import plot_delay_without_front_end_delays\n",
    "from darc_parameter_recovery import simulated_experiment_trial_loop\n",
    "\n",
    "import matplotlib.pyplot as plt\n",
    "%config InlineBackend.figure_format = 'retina'"
   ]
  },
  {
   "cell_type": "code",
   "execution_count": 3,
   "metadata": {},
   "outputs": [],
   "source": [
    "true_params = pd.DataFrame.from_dict({'logk': [np.log(0.04)], 'α': [2]})"
   ]
  },
  {
   "cell_type": "markdown",
   "metadata": {},
   "source": [
    "## track entropy\n",
    "To tell our `simulated_experiment_trial_loop` what we want to track, we are going to provide an argument which is a dictionary. The keys are the parameter names and the values are the corresponding scipy distributions."
   ]
  },
  {
   "cell_type": "code",
   "execution_count": 4,
   "metadata": {},
   "outputs": [],
   "source": [
    "# from scipy.stats import norm\n",
    "\n",
    "# track_this = {'logk': norm}"
   ]
  },
  {
   "cell_type": "markdown",
   "metadata": {},
   "source": [
    "## run a simulated experiment"
   ]
  },
  {
   "cell_type": "code",
   "execution_count": 9,
   "metadata": {},
   "outputs": [],
   "source": [
    "design_thing = DARCDesign(max_trials=40, \n",
    "                         RA=list(np.arange(5, 99+1, 1)), \n",
    "                         DB=list(np.arange(1, 365, 7)))\n",
    "\n",
    "model = models.Hyperbolic(n_particles=5000)\n",
    "model.θ_true = true_params\n",
    "\n",
    "fitted_model, summary_stats = simulated_experiment_trial_loop(design_thing, model)"
   ]
  },
  {
   "cell_type": "code",
   "execution_count": 12,
   "metadata": {},
   "outputs": [
    {
     "data": {
      "text/html": [
       "<div>\n",
       "<style scoped>\n",
       "    .dataframe tbody tr th:only-of-type {\n",
       "        vertical-align: middle;\n",
       "    }\n",
       "\n",
       "    .dataframe tbody tr th {\n",
       "        vertical-align: top;\n",
       "    }\n",
       "\n",
       "    .dataframe thead th {\n",
       "        text-align: right;\n",
       "    }\n",
       "</style>\n",
       "<table border=\"1\" class=\"dataframe\">\n",
       "  <thead>\n",
       "    <tr style=\"text-align: right;\">\n",
       "      <th></th>\n",
       "      <th>logk_entropy</th>\n",
       "      <th>logk_median</th>\n",
       "      <th>logk_mean</th>\n",
       "      <th>logk_lower50</th>\n",
       "      <th>logk_upper50</th>\n",
       "      <th>logk_lower95</th>\n",
       "      <th>logk_upper95</th>\n",
       "    </tr>\n",
       "  </thead>\n",
       "  <tbody>\n",
       "    <tr>\n",
       "      <th>0</th>\n",
       "      <td>1.409997</td>\n",
       "      <td>-5.911195</td>\n",
       "      <td>-5.901201</td>\n",
       "      <td>-6.585705</td>\n",
       "      <td>-5.233709</td>\n",
       "      <td>-7.815802</td>\n",
       "      <td>-4.005813</td>\n",
       "    </tr>\n",
       "    <tr>\n",
       "      <th>1</th>\n",
       "      <td>0.903343</td>\n",
       "      <td>-5.051403</td>\n",
       "      <td>-4.951443</td>\n",
       "      <td>-5.368860</td>\n",
       "      <td>-4.613116</td>\n",
       "      <td>-5.757134</td>\n",
       "      <td>-3.568939</td>\n",
       "    </tr>\n",
       "    <tr>\n",
       "      <th>2</th>\n",
       "      <td>0.696918</td>\n",
       "      <td>-4.624570</td>\n",
       "      <td>-4.548706</td>\n",
       "      <td>-4.924245</td>\n",
       "      <td>-4.291793</td>\n",
       "      <td>-5.148118</td>\n",
       "      <td>-3.320139</td>\n",
       "    </tr>\n",
       "    <tr>\n",
       "      <th>3</th>\n",
       "      <td>0.561438</td>\n",
       "      <td>-4.292787</td>\n",
       "      <td>-4.195792</td>\n",
       "      <td>-4.507049</td>\n",
       "      <td>-3.970242</td>\n",
       "      <td>-4.702704</td>\n",
       "      <td>-3.129025</td>\n",
       "    </tr>\n",
       "    <tr>\n",
       "      <th>4</th>\n",
       "      <td>0.474111</td>\n",
       "      <td>-3.644581</td>\n",
       "      <td>-3.581183</td>\n",
       "      <td>-3.820773</td>\n",
       "      <td>-3.394226</td>\n",
       "      <td>-4.340610</td>\n",
       "      <td>-2.628481</td>\n",
       "    </tr>\n",
       "  </tbody>\n",
       "</table>\n",
       "</div>"
      ],
      "text/plain": [
       "   logk_entropy  logk_median  logk_mean  logk_lower50  logk_upper50  \\\n",
       "0      1.409997    -5.911195  -5.901201     -6.585705     -5.233709   \n",
       "1      0.903343    -5.051403  -4.951443     -5.368860     -4.613116   \n",
       "2      0.696918    -4.624570  -4.548706     -4.924245     -4.291793   \n",
       "3      0.561438    -4.292787  -4.195792     -4.507049     -3.970242   \n",
       "4      0.474111    -3.644581  -3.581183     -3.820773     -3.394226   \n",
       "\n",
       "   logk_lower95  logk_upper95  \n",
       "0     -7.815802     -4.005813  \n",
       "1     -5.757134     -3.568939  \n",
       "2     -5.148118     -3.320139  \n",
       "3     -4.702704     -3.129025  \n",
       "4     -4.340610     -2.628481  "
      ]
     },
     "execution_count": 12,
     "metadata": {},
     "output_type": "execute_result"
    }
   ],
   "source": [
    "summary_stats.head()"
   ]
  },
  {
   "cell_type": "code",
   "execution_count": 11,
   "metadata": {},
   "outputs": [
    {
     "data": {
      "text/plain": [
       "[<matplotlib.lines.Line2D at 0x1a24203b70>]"
      ]
     },
     "execution_count": 11,
     "metadata": {},
     "output_type": "execute_result"
    },
    {
     "data": {
      "image/png": "[encoded data removed]",
      "text/plain": [
       "<Figure size 432x288 with 1 Axes>"
      ]
     },
     "metadata": {
      "image/png": {
       "height": 250,
       "width": 382
      },
      "needs_background": "light"
     },
     "output_type": "display_data"
    }
   ],
   "source": [
    "plt.plot(summary_stats['logk_entropy'], '-o')"
   ]
  },
  {
   "cell_type": "code",
   "execution_count": null,
   "metadata": {},
   "outputs": [],
   "source": []
  },
  {
   "cell_type": "code",
   "execution_count": null,
   "metadata": {},
   "outputs": [],
   "source": []
  },
  {
   "cell_type": "code",
   "execution_count": null,
   "metadata": {},
   "outputs": [],
   "source": []
  }
 ],
 "metadata": {
  "kernelspec": {
   "display_name": "Python 3",
   "language": "python",
   "name": "python3"
  },
  "language_info": {
   "codemirror_mode": {
    "name": "ipython",
    "version": 3
   },
   "file_extension": ".py",
   "mimetype": "text/x-python",
   "name": "python",
   "nbconvert_exporter": "python",
   "pygments_lexer": "ipython3",
   "version": "3.6.6"
  }
 },
 "nbformat": 4,
 "nbformat_minor": 2
}
