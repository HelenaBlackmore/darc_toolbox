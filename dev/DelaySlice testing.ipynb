{
 "cells": [
  {
   "cell_type": "code",
   "execution_count": 1,
   "metadata": {},
   "outputs": [],
   "source": [
    "# Point Python to the path where we have installed the bad and darc packages\n",
    "import sys\n",
    "sys.path.insert(0, '/Users/btvincent/git-local/darc-experiments-python')"
   ]
  },
  {
   "cell_type": "code",
   "execution_count": 2,
   "metadata": {},
   "outputs": [],
   "source": [
    "import pandas as pd\n",
    "import numpy as np\n",
    "from scipy.stats import norm\n",
    "\n",
    "import darc\n",
    "from darc.delayed import models\n",
    "from darc.designs import BayesianAdaptiveDesignGeneratorDARC\n",
    "\n",
    "from darc.data_plotting import plot_delay_without_front_end_delays\n",
    "from darc.parameter_recovery import simulated_experiment_trial_loop\n",
    "\n",
    "import matplotlib.pyplot as plt\n",
    "%config InlineBackend.figure_format = 'retina'"
   ]
  },
  {
   "cell_type": "markdown",
   "metadata": {},
   "source": [
    "## Simulated experiment with `DelaySlice` model"
   ]
  },
  {
   "cell_type": "code",
   "execution_count": 3,
   "metadata": {},
   "outputs": [
    {
     "ename": "TypeError",
     "evalue": "__init__() got an unexpected keyword argument 'RA'",
     "output_type": "error",
     "traceback": [
      "\u001b[0;31m---------------------------------------------------------------------------\u001b[0m",
      "\u001b[0;31mTypeError\u001b[0m                                 Traceback (most recent call last)",
      "\u001b[0;32m<ipython-input-3-5ffe2f91ffb3>\u001b[0m in \u001b[0;36m<module>\u001b[0;34m\u001b[0m\n\u001b[1;32m      3\u001b[0m design_thing = BayesianAdaptiveDesignGeneratorDARC(max_trials=max_trials,\n\u001b[1;32m      4\u001b[0m                           \u001b[0mRA\u001b[0m\u001b[0;34m=\u001b[0m\u001b[0mlist\u001b[0m\u001b[0;34m(\u001b[0m\u001b[0mnp\u001b[0m\u001b[0;34m.\u001b[0m\u001b[0marange\u001b[0m\u001b[0;34m(\u001b[0m\u001b[0;36m0\u001b[0m\u001b[0;34m,\u001b[0m\u001b[0;36m100\u001b[0m\u001b[0;34m,\u001b[0m\u001b[0;36m1\u001b[0m\u001b[0;34m)\u001b[0m\u001b[0;34m)\u001b[0m\u001b[0;34m,\u001b[0m\u001b[0;34m\u001b[0m\u001b[0;34m\u001b[0m\u001b[0m\n\u001b[0;32m----> 5\u001b[0;31m                           DB=[180])\n\u001b[0m\u001b[1;32m      6\u001b[0m \u001b[0;34m\u001b[0m\u001b[0m\n\u001b[1;32m      7\u001b[0m \u001b[0mmodel\u001b[0m \u001b[0;34m=\u001b[0m \u001b[0mmodels\u001b[0m\u001b[0;34m.\u001b[0m\u001b[0mDelaySlice\u001b[0m\u001b[0;34m(\u001b[0m\u001b[0mn_particles\u001b[0m\u001b[0;34m=\u001b[0m\u001b[0;36m50_000\u001b[0m\u001b[0;34m)\u001b[0m\u001b[0;34m\u001b[0m\u001b[0;34m\u001b[0m\u001b[0m\n",
      "\u001b[0;31mTypeError\u001b[0m: __init__() got an unexpected keyword argument 'RA'"
     ]
    }
   ],
   "source": [
    "max_trials = 20\n",
    "\n",
    "design_thing = BayesianAdaptiveDesignGeneratorDARC(max_trials=max_trials,\n",
    "                          RA=list(np.arange(0,100,1)),\n",
    "                          DB=[180])\n",
    "\n",
    "model = models.DelaySlice(n_particles=50_000)\n",
    "\n",
    "# model = model.generate_faux_true_params()\n",
    "indiff_true = 0.8\n",
    "α_true = 0.05\n",
    "model.θ_true = pd.DataFrame.from_dict({'indiff': [indiff_true], 'α': [α_true]})\n",
    "\n",
    "fitted_model = simulated_experiment_trial_loop(design_thing, model)\n"
   ]
  },
  {
   "cell_type": "markdown",
   "metadata": {},
   "source": [
    "Visualise the raw data"
   ]
  },
  {
   "cell_type": "code",
   "execution_count": 4,
   "metadata": {},
   "outputs": [
    {
     "ename": "NameError",
     "evalue": "name 'design_thing' is not defined",
     "output_type": "error",
     "traceback": [
      "\u001b[0;31m---------------------------------------------------------------------------\u001b[0m",
      "\u001b[0;31mNameError\u001b[0m                                 Traceback (most recent call last)",
      "\u001b[0;32m<ipython-input-4-c0088c627814>\u001b[0m in \u001b[0;36m<module>\u001b[0;34m\u001b[0m\n\u001b[1;32m      1\u001b[0m \u001b[0mfig\u001b[0m\u001b[0;34m,\u001b[0m \u001b[0max\u001b[0m \u001b[0;34m=\u001b[0m \u001b[0mplt\u001b[0m\u001b[0;34m.\u001b[0m\u001b[0msubplots\u001b[0m\u001b[0;34m(\u001b[0m\u001b[0mfigsize\u001b[0m\u001b[0;34m=\u001b[0m\u001b[0;34m(\u001b[0m\u001b[0;36m9\u001b[0m\u001b[0;34m,\u001b[0m\u001b[0;36m4\u001b[0m\u001b[0;34m)\u001b[0m\u001b[0;34m)\u001b[0m\u001b[0;34m\u001b[0m\u001b[0;34m\u001b[0m\u001b[0m\n\u001b[0;32m----> 2\u001b[0;31m \u001b[0mplot_delay_without_front_end_delays\u001b[0m\u001b[0;34m(\u001b[0m\u001b[0max\u001b[0m\u001b[0;34m,\u001b[0m \u001b[0mdesign_thing\u001b[0m\u001b[0;34m.\u001b[0m\u001b[0mget_df\u001b[0m\u001b[0;34m(\u001b[0m\u001b[0;34m)\u001b[0m\u001b[0;34m)\u001b[0m\u001b[0;34m\u001b[0m\u001b[0;34m\u001b[0m\u001b[0m\n\u001b[0m\u001b[1;32m      3\u001b[0m \u001b[0max\u001b[0m\u001b[0;34m.\u001b[0m\u001b[0mset_xlim\u001b[0m\u001b[0;34m(\u001b[0m\u001b[0;34m[\u001b[0m\u001b[0;36m0\u001b[0m\u001b[0;34m,\u001b[0m \u001b[0;36m365\u001b[0m\u001b[0;34m]\u001b[0m\u001b[0;34m)\u001b[0m\u001b[0;34m\u001b[0m\u001b[0;34m\u001b[0m\u001b[0m\n\u001b[1;32m      4\u001b[0m \u001b[0max\u001b[0m\u001b[0;34m.\u001b[0m\u001b[0mset_ylim\u001b[0m\u001b[0;34m(\u001b[0m\u001b[0;34m[\u001b[0m\u001b[0;36m0\u001b[0m\u001b[0;34m,\u001b[0m \u001b[0;36m1\u001b[0m\u001b[0;34m]\u001b[0m\u001b[0;34m)\u001b[0m\u001b[0;34m\u001b[0m\u001b[0;34m\u001b[0m\u001b[0m\n",
      "\u001b[0;31mNameError\u001b[0m: name 'design_thing' is not defined"
     ]
    },
    {
     "data": {
      "image/png": "[encoded data removed]",
      "text/plain": [
       "<Figure size 648x288 with 1 Axes>"
      ]
     },
     "metadata": {
      "image/png": {
       "height": 252,
       "width": 547
      },
      "needs_background": "light"
     },
     "output_type": "display_data"
    }
   ],
   "source": [
    "fig, ax = plt.subplots(figsize=(9,4))\n",
    "plot_delay_without_front_end_delays(ax, design_thing.get_df())\n",
    "ax.set_xlim([0, 365])\n",
    "ax.set_ylim([0, 1])"
   ]
  },
  {
   "cell_type": "markdown",
   "metadata": {},
   "source": [
    "## Posterior predictive checking"
   ]
  },
  {
   "cell_type": "code",
   "execution_count": null,
   "metadata": {},
   "outputs": [],
   "source": [
    "def plot_data(ax, data):\n",
    "    x = data['RA'].values / data['RB'].values\n",
    "    y = data['R'].values\n",
    "    ax.scatter(x, y, c='k')"
   ]
  },
  {
   "cell_type": "code",
   "execution_count": null,
   "metadata": {},
   "outputs": [],
   "source": []
  },
  {
   "cell_type": "code",
   "execution_count": null,
   "metadata": {},
   "outputs": [],
   "source": [
    "Phi = lambda x: norm.cdf(x, loc=0, scale=1)\n",
    "\n",
    "def Psi(x, indiff, α, ϵ=0.01):\n",
    "    return ϵ+(1-2*ϵ) * Phi((indiff-x)/α) # TODO: CHECK x is right way around"
   ]
  },
  {
   "cell_type": "code",
   "execution_count": null,
   "metadata": {},
   "outputs": [],
   "source": [
    "θpe = fitted_model.get_θ_point_estimate()\n",
    "indiff_median = θpe['indiff'].values\n",
    "α_median = θpe['α'].values"
   ]
  },
  {
   "cell_type": "code",
   "execution_count": null,
   "metadata": {},
   "outputs": [],
   "source": [
    "x = np.linspace(0, 1, 500)"
   ]
  },
  {
   "cell_type": "code",
   "execution_count": null,
   "metadata": {},
   "outputs": [],
   "source": [
    "fig, ax = plt.subplots(2, 1, figsize=(12,12))\n",
    "\n",
    "# Psychometric function posterior predictive check + data ====================\n",
    "XN = 500\n",
    "x = np.linspace(0, 1, XN)\n",
    "\n",
    "# plot a bunch of samples from the posterior distribution\n",
    "N_SAMPLES = 300\n",
    "θ = fitted_model.θ.sample(N_SAMPLES)\n",
    "y = np.zeros((XN, N_SAMPLES))\n",
    "for i, (indiff, α) in enumerate(zip(θ['indiff'].values, θ['α'].values)):\n",
    "    y[:,i] = Psi(x, indiff, α, ϵ=0.01)\n",
    "    \n",
    "ax[0].plot(x, y, c='k', alpha=0.1)\n",
    "\n",
    "# plot true psychophysical function\n",
    "y = Psi(x, indiff_true, α_true, ϵ=0.01)\n",
    "ax[0].plot(x, y, lw=4, label='true')\n",
    "\n",
    "# plot posterior median\n",
    "y = Psi(x, indiff_median, α_median, ϵ=0.01)\n",
    "ax[0].plot(x, y, lw=4, label='posterior median')\n",
    "\n",
    "# overlay the data onto this plot\n",
    "plot_data(ax[0], design_thing.get_df())\n",
    "\n",
    "# formatting\n",
    "ax[0].set_ylim([0-0.05, 1+0.05])\n",
    "ax[0].legend()\n",
    "\n",
    "ax[0].set_xlabel('indifference point = $R^A/R^B$')\n",
    "ax[0].set_ylabel('P(choose B)')\n",
    "ax[0].set_title('Posterior predictive check')\n",
    "\n",
    "\n",
    "# Visualise things as a function of trial ===================================\n",
    "\n",
    "trial = np.arange(design_thing.get_df()shape[0]) + 1\n",
    "indiff = design_thing.get_df()['RA'].values / design_thing.get_df()['RB'].values\n",
    "ax[1].plot(indiff, trial, '-o', ms=7, c='k', label='data')\n",
    "\n",
    "ax[1].set_ylabel('trial')\n",
    "ax[1].set_xlabel('$R^A/R^B$')\n",
    "ax[1].set_yticks(trial)\n",
    "ax[1].legend()\n",
    "ax[1].set_xlim([0-0.05, 1+0.05])\n",
    "ax[1].set_title('Experimental designs')\n",
    "\n",
    "plt.subplots_adjust(hspace=0.25)"
   ]
  },
  {
   "cell_type": "code",
   "execution_count": null,
   "metadata": {},
   "outputs": [],
   "source": []
  },
  {
   "cell_type": "code",
   "execution_count": null,
   "metadata": {},
   "outputs": [],
   "source": []
  },
  {
   "cell_type": "code",
   "execution_count": null,
   "metadata": {},
   "outputs": [],
   "source": []
  },
  {
   "cell_type": "code",
   "execution_count": null,
   "metadata": {},
   "outputs": [],
   "source": []
  },
  {
   "cell_type": "code",
   "execution_count": null,
   "metadata": {},
   "outputs": [],
   "source": [
    "from scipy.stats import halfnorm\n",
    "α = halfnorm(loc=0, scale=0.05)\n",
    "plt.hist(α.rvs(10000), 50, density=True, facecolor='g', alpha=0.75);"
   ]
  },
  {
   "cell_type": "code",
   "execution_count": null,
   "metadata": {},
   "outputs": [],
   "source": []
  },
  {
   "cell_type": "code",
   "execution_count": null,
   "metadata": {},
   "outputs": [],
   "source": []
  },
  {
   "cell_type": "code",
   "execution_count": null,
   "metadata": {},
   "outputs": [],
   "source": []
  },
  {
   "cell_type": "code",
   "execution_count": null,
   "metadata": {},
   "outputs": [],
   "source": []
  }
 ],
 "metadata": {
  "kernelspec": {
   "display_name": "Python 3",
   "language": "python",
   "name": "python3"
  },
  "language_info": {
   "codemirror_mode": {
    "name": "ipython",
    "version": 3
   },
   "file_extension": ".py",
   "mimetype": "text/x-python",
   "name": "python",
   "nbconvert_exporter": "python",
   "pygments_lexer": "ipython3",
   "version": "3.6.8"
  }
 },
 "nbformat": 4,
 "nbformat_minor": 2
}
